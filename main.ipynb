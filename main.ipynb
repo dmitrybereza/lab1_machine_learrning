{
 "metadata": {
  "language_info": {
   "codemirror_mode": {
    "name": "ipython",
    "version": 3
   },
   "file_extension": ".py",
   "mimetype": "text/x-python",
   "name": "python",
   "nbconvert_exporter": "python",
   "pygments_lexer": "ipython3",
   "version": "3.8.5-final"
  },
  "orig_nbformat": 2,
  "kernelspec": {
   "name": "python3",
   "display_name": "Python 3"
  }
 },
 "nbformat": 4,
 "nbformat_minor": 2,
 "cells": [
  {
   "cell_type": "code",
   "execution_count": 77,
   "metadata": {},
   "outputs": [
    {
     "output_type": "execute_result",
     "data": {
      "text/plain": [
       "   p  x  s  n  t p.1  f  c n.1  k  e  ... s.1 s.2  w w.1 p.2 w.2  o p.3 k.1 s.3  u\n",
       "0  e  x  s  y  t   a  f  c   b  k  e  ...   s   s  w   w   p   w  o   p   n   n  g\n",
       "1  e  b  s  w  t   l  f  c   b  n  e  ...   s   s  w   w   p   w  o   p   n   n  m\n",
       "2  p  x  y  w  t   p  f  c   n  n  e  ...   s   s  w   w   p   w  o   p   k   s  u\n",
       "3  e  x  s  g  f   n  f  w   b  k  t  ...   s   s  w   w   p   w  o   e   n   a  g\n",
       "4  e  x  y  y  t   a  f  c   b  n  e  ...   s   s  w   w   p   w  o   p   k   n  g\n",
       "\n",
       "[5 rows x 23 columns]"
      ],
      "text/html": "<div>\n<style scoped>\n    .dataframe tbody tr th:only-of-type {\n        vertical-align: middle;\n    }\n\n    .dataframe tbody tr th {\n        vertical-align: top;\n    }\n\n    .dataframe thead th {\n        text-align: right;\n    }\n</style>\n<table border=\"1\" class=\"dataframe\">\n  <thead>\n    <tr style=\"text-align: right;\">\n      <th></th>\n      <th>p</th>\n      <th>x</th>\n      <th>s</th>\n      <th>n</th>\n      <th>t</th>\n      <th>p.1</th>\n      <th>f</th>\n      <th>c</th>\n      <th>n.1</th>\n      <th>k</th>\n      <th>e</th>\n      <th>e.1</th>\n      <th>s.1</th>\n      <th>s.2</th>\n      <th>w</th>\n      <th>w.1</th>\n      <th>p.2</th>\n      <th>w.2</th>\n      <th>o</th>\n      <th>p.3</th>\n      <th>k.1</th>\n      <th>s.3</th>\n      <th>u</th>\n    </tr>\n  </thead>\n  <tbody>\n    <tr>\n      <th>0</th>\n      <td>e</td>\n      <td>x</td>\n      <td>s</td>\n      <td>y</td>\n      <td>t</td>\n      <td>a</td>\n      <td>f</td>\n      <td>c</td>\n      <td>b</td>\n      <td>k</td>\n      <td>e</td>\n      <td>c</td>\n      <td>s</td>\n      <td>s</td>\n      <td>w</td>\n      <td>w</td>\n      <td>p</td>\n      <td>w</td>\n      <td>o</td>\n      <td>p</td>\n      <td>n</td>\n      <td>n</td>\n      <td>g</td>\n    </tr>\n    <tr>\n      <th>1</th>\n      <td>e</td>\n      <td>b</td>\n      <td>s</td>\n      <td>w</td>\n      <td>t</td>\n      <td>l</td>\n      <td>f</td>\n      <td>c</td>\n      <td>b</td>\n      <td>n</td>\n      <td>e</td>\n      <td>c</td>\n      <td>s</td>\n      <td>s</td>\n      <td>w</td>\n      <td>w</td>\n      <td>p</td>\n      <td>w</td>\n      <td>o</td>\n      <td>p</td>\n      <td>n</td>\n      <td>n</td>\n      <td>m</td>\n    </tr>\n    <tr>\n      <th>2</th>\n      <td>p</td>\n      <td>x</td>\n      <td>y</td>\n      <td>w</td>\n      <td>t</td>\n      <td>p</td>\n      <td>f</td>\n      <td>c</td>\n      <td>n</td>\n      <td>n</td>\n      <td>e</td>\n      <td>e</td>\n      <td>s</td>\n      <td>s</td>\n      <td>w</td>\n      <td>w</td>\n      <td>p</td>\n      <td>w</td>\n      <td>o</td>\n      <td>p</td>\n      <td>k</td>\n      <td>s</td>\n      <td>u</td>\n    </tr>\n    <tr>\n      <th>3</th>\n      <td>e</td>\n      <td>x</td>\n      <td>s</td>\n      <td>g</td>\n      <td>f</td>\n      <td>n</td>\n      <td>f</td>\n      <td>w</td>\n      <td>b</td>\n      <td>k</td>\n      <td>t</td>\n      <td>e</td>\n      <td>s</td>\n      <td>s</td>\n      <td>w</td>\n      <td>w</td>\n      <td>p</td>\n      <td>w</td>\n      <td>o</td>\n      <td>e</td>\n      <td>n</td>\n      <td>a</td>\n      <td>g</td>\n    </tr>\n    <tr>\n      <th>4</th>\n      <td>e</td>\n      <td>x</td>\n      <td>y</td>\n      <td>y</td>\n      <td>t</td>\n      <td>a</td>\n      <td>f</td>\n      <td>c</td>\n      <td>b</td>\n      <td>n</td>\n      <td>e</td>\n      <td>c</td>\n      <td>s</td>\n      <td>s</td>\n      <td>w</td>\n      <td>w</td>\n      <td>p</td>\n      <td>w</td>\n      <td>o</td>\n      <td>p</td>\n      <td>k</td>\n      <td>n</td>\n      <td>g</td>\n    </tr>\n  </tbody>\n</table>\n</div>"
     },
     "metadata": {},
     "execution_count": 77
    }
   ],
   "source": [
    "import pandas as pd\n",
    "import numpy as np\n",
    "\n",
    "data_path = 'data/agaricus-lepiota.data'\n",
    "agaricus_data = pd.read_csv(data_path)\n",
    "\n",
    "agaricus_data.head()"
   ]
  },
  {
   "source": [
    "agaricus_data.rename(columns={'p': 'Class', 'x': 'Cap-shape', 's': 'Cap-surface',\n",
    "                              'n': 'Cap-color', 't': 'Bruises?', 'p.1': 'Odor', 'f': 'Gill-attachment',\n",
    "                              'c': 'Gill-spacing', 'n.1': 'Gill-size', 'k': 'Gill-color', 'e': 'Stalk-shape',\n",
    "                              'e.1': 'Stalk-root', 's.1': 'Stalk-surface-above-ring', 's.2': 'Stalk-surface-below-ring',\n",
    "                              'w': 'Stalk-color-above-ring', 'w.1': 'Stalk-color-below-ring', 'p.2': 'Veil-type',\n",
    "                              'w.2': 'Veil-color', 'o': 'Ring-number', 'p.3': 'Ring-type', 'k.1': 'Spore-print-color',\n",
    "                              's.3': 'Population', 'u': 'Habitat' }, inplace=True)\n",
    "\n",
    "agaricus_data.head()"
   ],
   "cell_type": "code",
   "metadata": {},
   "execution_count": 78,
   "outputs": [
    {
     "output_type": "execute_result",
     "data": {
      "text/plain": [
       "  Class Cap-shape Cap-surface  ... Spore-print-color Population Habitat\n",
       "0     e         x           s  ...                 n          n       g\n",
       "1     e         b           s  ...                 n          n       m\n",
       "2     p         x           y  ...                 k          s       u\n",
       "3     e         x           s  ...                 n          a       g\n",
       "4     e         x           y  ...                 k          n       g\n",
       "\n",
       "[5 rows x 23 columns]"
      ],
      "text/html": "<div>\n<style scoped>\n    .dataframe tbody tr th:only-of-type {\n        vertical-align: middle;\n    }\n\n    .dataframe tbody tr th {\n        vertical-align: top;\n    }\n\n    .dataframe thead th {\n        text-align: right;\n    }\n</style>\n<table border=\"1\" class=\"dataframe\">\n  <thead>\n    <tr style=\"text-align: right;\">\n      <th></th>\n      <th>Class</th>\n      <th>Cap-shape</th>\n      <th>Cap-surface</th>\n      <th>Cap-color</th>\n      <th>Bruises?</th>\n      <th>Odor</th>\n      <th>Gill-attachment</th>\n      <th>Gill-spacing</th>\n      <th>Gill-size</th>\n      <th>Gill-color</th>\n      <th>Stalk-shape</th>\n      <th>Stalk-root</th>\n      <th>Stalk-surface-above-ring</th>\n      <th>Stalk-surface-below-ring</th>\n      <th>Stalk-color-above-ring</th>\n      <th>Stalk-color-below-ring</th>\n      <th>Veil-type</th>\n      <th>Veil-color</th>\n      <th>Ring-number</th>\n      <th>Ring-type</th>\n      <th>Spore-print-color</th>\n      <th>Population</th>\n      <th>Habitat</th>\n    </tr>\n  </thead>\n  <tbody>\n    <tr>\n      <th>0</th>\n      <td>e</td>\n      <td>x</td>\n      <td>s</td>\n      <td>y</td>\n      <td>t</td>\n      <td>a</td>\n      <td>f</td>\n      <td>c</td>\n      <td>b</td>\n      <td>k</td>\n      <td>e</td>\n      <td>c</td>\n      <td>s</td>\n      <td>s</td>\n      <td>w</td>\n      <td>w</td>\n      <td>p</td>\n      <td>w</td>\n      <td>o</td>\n      <td>p</td>\n      <td>n</td>\n      <td>n</td>\n      <td>g</td>\n    </tr>\n    <tr>\n      <th>1</th>\n      <td>e</td>\n      <td>b</td>\n      <td>s</td>\n      <td>w</td>\n      <td>t</td>\n      <td>l</td>\n      <td>f</td>\n      <td>c</td>\n      <td>b</td>\n      <td>n</td>\n      <td>e</td>\n      <td>c</td>\n      <td>s</td>\n      <td>s</td>\n      <td>w</td>\n      <td>w</td>\n      <td>p</td>\n      <td>w</td>\n      <td>o</td>\n      <td>p</td>\n      <td>n</td>\n      <td>n</td>\n      <td>m</td>\n    </tr>\n    <tr>\n      <th>2</th>\n      <td>p</td>\n      <td>x</td>\n      <td>y</td>\n      <td>w</td>\n      <td>t</td>\n      <td>p</td>\n      <td>f</td>\n      <td>c</td>\n      <td>n</td>\n      <td>n</td>\n      <td>e</td>\n      <td>e</td>\n      <td>s</td>\n      <td>s</td>\n      <td>w</td>\n      <td>w</td>\n      <td>p</td>\n      <td>w</td>\n      <td>o</td>\n      <td>p</td>\n      <td>k</td>\n      <td>s</td>\n      <td>u</td>\n    </tr>\n    <tr>\n      <th>3</th>\n      <td>e</td>\n      <td>x</td>\n      <td>s</td>\n      <td>g</td>\n      <td>f</td>\n      <td>n</td>\n      <td>f</td>\n      <td>w</td>\n      <td>b</td>\n      <td>k</td>\n      <td>t</td>\n      <td>e</td>\n      <td>s</td>\n      <td>s</td>\n      <td>w</td>\n      <td>w</td>\n      <td>p</td>\n      <td>w</td>\n      <td>o</td>\n      <td>e</td>\n      <td>n</td>\n      <td>a</td>\n      <td>g</td>\n    </tr>\n    <tr>\n      <th>4</th>\n      <td>e</td>\n      <td>x</td>\n      <td>y</td>\n      <td>y</td>\n      <td>t</td>\n      <td>a</td>\n      <td>f</td>\n      <td>c</td>\n      <td>b</td>\n      <td>n</td>\n      <td>e</td>\n      <td>c</td>\n      <td>s</td>\n      <td>s</td>\n      <td>w</td>\n      <td>w</td>\n      <td>p</td>\n      <td>w</td>\n      <td>o</td>\n      <td>p</td>\n      <td>k</td>\n      <td>n</td>\n      <td>g</td>\n    </tr>\n  </tbody>\n</table>\n</div>"
     },
     "metadata": {},
     "execution_count": 78
    }
   ]
  },
  {
   "cell_type": "code",
   "execution_count": 79,
   "metadata": {},
   "outputs": [
    {
     "output_type": "stream",
     "name": "stdout",
     "text": [
      "<class 'pandas.core.frame.DataFrame'>\nRangeIndex: 8123 entries, 0 to 8122\nData columns (total 23 columns):\n #   Column                    Non-Null Count  Dtype \n---  ------                    --------------  ----- \n 0   Class                     8123 non-null   object\n 1   Cap-shape                 8123 non-null   object\n 2   Cap-surface               8123 non-null   object\n 3   Cap-color                 8123 non-null   object\n 4   Bruises?                  8123 non-null   object\n 5   Odor                      8123 non-null   object\n 6   Gill-attachment           8123 non-null   object\n 7   Gill-spacing              8123 non-null   object\n 8   Gill-size                 8123 non-null   object\n 9   Gill-color                8123 non-null   object\n 10  Stalk-shape               8123 non-null   object\n 11  Stalk-root                8123 non-null   object\n 12  Stalk-surface-above-ring  8123 non-null   object\n 13  Stalk-surface-below-ring  8123 non-null   object\n 14  Stalk-color-above-ring    8123 non-null   object\n 15  Stalk-color-below-ring    8123 non-null   object\n 16  Veil-type                 8123 non-null   object\n 17  Veil-color                8123 non-null   object\n 18  Ring-number               8123 non-null   object\n 19  Ring-type                 8123 non-null   object\n 20  Spore-print-color         8123 non-null   object\n 21  Population                8123 non-null   object\n 22  Habitat                   8123 non-null   object\ndtypes: object(23)\nmemory usage: 1.4+ MB\n"
     ]
    }
   ],
   "source": [
    "agaricus_data.info()"
   ]
  },
  {
   "cell_type": "code",
   "execution_count": 80,
   "metadata": {},
   "outputs": [
    {
     "output_type": "execute_result",
     "data": {
      "text/plain": [
       "       Class Cap-shape Cap-surface  ... Spore-print-color Population Habitat\n",
       "count   8123      8123        8123  ...              8123       8123    8123\n",
       "unique     2         6           4  ...                 9          6       7\n",
       "top        e         x           y  ...                 w          v       d\n",
       "freq    4208      3655        3244  ...              2388       4040    3148\n",
       "\n",
       "[4 rows x 23 columns]"
      ],
      "text/html": "<div>\n<style scoped>\n    .dataframe tbody tr th:only-of-type {\n        vertical-align: middle;\n    }\n\n    .dataframe tbody tr th {\n        vertical-align: top;\n    }\n\n    .dataframe thead th {\n        text-align: right;\n    }\n</style>\n<table border=\"1\" class=\"dataframe\">\n  <thead>\n    <tr style=\"text-align: right;\">\n      <th></th>\n      <th>Class</th>\n      <th>Cap-shape</th>\n      <th>Cap-surface</th>\n      <th>Cap-color</th>\n      <th>Bruises?</th>\n      <th>Odor</th>\n      <th>Gill-attachment</th>\n      <th>Gill-spacing</th>\n      <th>Gill-size</th>\n      <th>Gill-color</th>\n      <th>Stalk-shape</th>\n      <th>Stalk-root</th>\n      <th>Stalk-surface-above-ring</th>\n      <th>Stalk-surface-below-ring</th>\n      <th>Stalk-color-above-ring</th>\n      <th>Stalk-color-below-ring</th>\n      <th>Veil-type</th>\n      <th>Veil-color</th>\n      <th>Ring-number</th>\n      <th>Ring-type</th>\n      <th>Spore-print-color</th>\n      <th>Population</th>\n      <th>Habitat</th>\n    </tr>\n  </thead>\n  <tbody>\n    <tr>\n      <th>count</th>\n      <td>8123</td>\n      <td>8123</td>\n      <td>8123</td>\n      <td>8123</td>\n      <td>8123</td>\n      <td>8123</td>\n      <td>8123</td>\n      <td>8123</td>\n      <td>8123</td>\n      <td>8123</td>\n      <td>8123</td>\n      <td>8123</td>\n      <td>8123</td>\n      <td>8123</td>\n      <td>8123</td>\n      <td>8123</td>\n      <td>8123</td>\n      <td>8123</td>\n      <td>8123</td>\n      <td>8123</td>\n      <td>8123</td>\n      <td>8123</td>\n      <td>8123</td>\n    </tr>\n    <tr>\n      <th>unique</th>\n      <td>2</td>\n      <td>6</td>\n      <td>4</td>\n      <td>10</td>\n      <td>2</td>\n      <td>9</td>\n      <td>2</td>\n      <td>2</td>\n      <td>2</td>\n      <td>12</td>\n      <td>2</td>\n      <td>5</td>\n      <td>4</td>\n      <td>4</td>\n      <td>9</td>\n      <td>9</td>\n      <td>1</td>\n      <td>4</td>\n      <td>3</td>\n      <td>5</td>\n      <td>9</td>\n      <td>6</td>\n      <td>7</td>\n    </tr>\n    <tr>\n      <th>top</th>\n      <td>e</td>\n      <td>x</td>\n      <td>y</td>\n      <td>n</td>\n      <td>f</td>\n      <td>n</td>\n      <td>f</td>\n      <td>c</td>\n      <td>b</td>\n      <td>b</td>\n      <td>t</td>\n      <td>b</td>\n      <td>s</td>\n      <td>s</td>\n      <td>w</td>\n      <td>w</td>\n      <td>p</td>\n      <td>w</td>\n      <td>o</td>\n      <td>p</td>\n      <td>w</td>\n      <td>v</td>\n      <td>d</td>\n    </tr>\n    <tr>\n      <th>freq</th>\n      <td>4208</td>\n      <td>3655</td>\n      <td>3244</td>\n      <td>2283</td>\n      <td>4748</td>\n      <td>3528</td>\n      <td>7913</td>\n      <td>6811</td>\n      <td>5612</td>\n      <td>1728</td>\n      <td>4608</td>\n      <td>3776</td>\n      <td>5175</td>\n      <td>4935</td>\n      <td>4463</td>\n      <td>4383</td>\n      <td>8123</td>\n      <td>7923</td>\n      <td>7487</td>\n      <td>3967</td>\n      <td>2388</td>\n      <td>4040</td>\n      <td>3148</td>\n    </tr>\n  </tbody>\n</table>\n</div>"
     },
     "metadata": {},
     "execution_count": 80
    }
   ],
   "source": [
    "agaricus_data.describe(include=['object'])"
   ]
  },
  {
   "cell_type": "code",
   "execution_count": 81,
   "metadata": {},
   "outputs": [
    {
     "output_type": "stream",
     "name": "stdout",
     "text": [
      "Class:\ne    4208\np    3915\nName: Class, dtype: int64\n\nCap-shape:\nx    3655\nf    3152\nk     828\nb     452\ns      32\nc       4\nName: Cap-shape, dtype: int64\n\nCap-surface:\ny    3244\ns    2555\nf    2320\ng       4\nName: Cap-surface, dtype: int64\n\nCap-color:\nn    2283\ng    1840\ne    1500\ny    1072\nw    1040\nb     168\np     144\nc      44\nr      16\nu      16\nName: Cap-color, dtype: int64\n\nBruises?:\nf    4748\nt    3375\nName: Bruises?, dtype: int64\n\nOdor:\nn    3528\nf    2160\ny     576\ns     576\nl     400\na     400\np     255\nc     192\nm      36\nName: Odor, dtype: int64\n\nGill-attachment:\nf    7913\na     210\nName: Gill-attachment, dtype: int64\n\nGill-spacing:\nc    6811\nw    1312\nName: Gill-spacing, dtype: int64\n\nGill-size:\nb    5612\nn    2511\nName: Gill-size, dtype: int64\n\nGill-color:\nb    1728\np    1492\nw    1202\nn    1048\ng     752\nh     732\nu     492\nk     407\ne      96\ny      86\no      64\nr      24\nName: Gill-color, dtype: int64\n\nStalk-shape:\nt    4608\ne    3515\nName: Stalk-shape, dtype: int64\n\nStalk-root:\nb    3776\n?    2480\ne    1119\nc     556\nr     192\nName: Stalk-root, dtype: int64\n\nStalk-surface-above-ring:\ns    5175\nk    2372\nf     552\ny      24\nName: Stalk-surface-above-ring, dtype: int64\n\nStalk-surface-below-ring:\ns    4935\nk    2304\nf     600\ny     284\nName: Stalk-surface-below-ring, dtype: int64\n\nStalk-color-above-ring:\nw    4463\np    1872\ng     576\nn     448\nb     432\no     192\ne      96\nc      36\ny       8\nName: Stalk-color-above-ring, dtype: int64\n\nStalk-color-below-ring:\nw    4383\np    1872\ng     576\nn     512\nb     432\no     192\ne      96\nc      36\ny      24\nName: Stalk-color-below-ring, dtype: int64\n\nVeil-type:\np    8123\nName: Veil-type, dtype: int64\n\nVeil-color:\nw    7923\no      96\nn      96\ny       8\nName: Veil-color, dtype: int64\n\nRing-number:\no    7487\nt     600\nn      36\nName: Ring-number, dtype: int64\n\nRing-type:\np    3967\ne    2776\nl    1296\nf      48\nn      36\nName: Ring-type, dtype: int64\n\nSpore-print-color:\nw    2388\nn    1968\nk    1871\nh    1632\nr      72\no      48\nb      48\ny      48\nu      48\nName: Spore-print-color, dtype: int64\n\nPopulation:\nv    4040\ny    1712\ns    1247\nn     400\na     384\nc     340\nName: Population, dtype: int64\n\nHabitat:\nd    3148\ng    2148\np    1144\nl     832\nu     367\nm     292\nw     192\nName: Habitat, dtype: int64\n\n"
     ]
    }
   ],
   "source": [
    "for series_name in agaricus_data:\n",
    "    print(f\"{series_name}:\\n{agaricus_data[series_name].value_counts()}\\n\")"
   ]
  },
  {
   "cell_type": "code",
   "execution_count": 82,
   "metadata": {},
   "outputs": [],
   "source": [
    "agaricus_data.replace(['?'], pd.NA, inplace=True)"
   ]
  },
  {
   "cell_type": "code",
   "execution_count": 83,
   "metadata": {},
   "outputs": [
    {
     "output_type": "execute_result",
     "data": {
      "text/plain": [
       "Class                          0\n",
       "Cap-shape                      0\n",
       "Cap-surface                    0\n",
       "Cap-color                      0\n",
       "Bruises?                       0\n",
       "Odor                           0\n",
       "Gill-attachment                0\n",
       "Gill-spacing                   0\n",
       "Gill-size                      0\n",
       "Gill-color                     0\n",
       "Stalk-shape                    0\n",
       "Stalk-root                  2480\n",
       "Stalk-surface-above-ring       0\n",
       "Stalk-surface-below-ring       0\n",
       "Stalk-color-above-ring         0\n",
       "Stalk-color-below-ring         0\n",
       "Veil-type                      0\n",
       "Veil-color                     0\n",
       "Ring-number                    0\n",
       "Ring-type                      0\n",
       "Spore-print-color              0\n",
       "Population                     0\n",
       "Habitat                        0\n",
       "dtype: int64"
      ]
     },
     "metadata": {},
     "execution_count": 83
    }
   ],
   "source": [
    "agaricus_data.isnull().sum()"
   ]
  },
  {
   "cell_type": "code",
   "execution_count": 84,
   "metadata": {},
   "outputs": [],
   "source": [
    "agaricus_data.dropna(how='any', inplace=True)\n",
    "#agaricus_data.fillna(df.median(), inplace = True)\n",
    "#agaricus_data.fillna({'Stalk-root' : 'b'}, inplace = True)"
   ]
  },
  {
   "cell_type": "code",
   "execution_count": 85,
   "metadata": {},
   "outputs": [
    {
     "output_type": "execute_result",
     "data": {
      "text/plain": [
       "([<matplotlib.patches.Wedge at 0x7f453fbd9d60>,\n",
       "  <matplotlib.patches.Wedge at 0x7f453fbd9b50>],\n",
       " [Text(-0.39886007320887107, 1.025139328091462, 'e'),\n",
       "  Text(0.39885997722839817, -1.0251393654354328, 'p')],\n",
       " [Text(-0.21756003993211145, 0.5591669062317065, '61.8%'),\n",
       "  Text(0.21755998757912626, -0.5591669266011451, '38.2%')])"
      ]
     },
     "metadata": {},
     "execution_count": 85
    },
    {
     "output_type": "display_data",
     "data": {
      "text/plain": "<Figure size 432x288 with 1 Axes>",
      "image/svg+xml": "<?xml version=\"1.0\" encoding=\"utf-8\" standalone=\"no\"?>\n<!DOCTYPE svg PUBLIC \"-//W3C//DTD SVG 1.1//EN\"\n  \"http://www.w3.org/Graphics/SVG/1.1/DTD/svg11.dtd\">\n<!-- Created with matplotlib (https://matplotlib.org/) -->\n<svg height=\"231.84pt\" version=\"1.1\" viewBox=\"0 0 231.84 231.84\" width=\"231.84pt\" xmlns=\"http://www.w3.org/2000/svg\" xmlns:xlink=\"http://www.w3.org/1999/xlink\">\n <metadata>\n  <rdf:RDF xmlns:cc=\"http://creativecommons.org/ns#\" xmlns:dc=\"http://purl.org/dc/elements/1.1/\" xmlns:rdf=\"http://www.w3.org/1999/02/22-rdf-syntax-ns#\">\n   <cc:Work>\n    <dc:type rdf:resource=\"http://purl.org/dc/dcmitype/StillImage\"/>\n    <dc:date>2020-11-19T17:43:57.666140</dc:date>\n    <dc:format>image/svg+xml</dc:format>\n    <dc:creator>\n     <cc:Agent>\n      <dc:title>Matplotlib v3.3.3, https://matplotlib.org/</dc:title>\n     </cc:Agent>\n    </dc:creator>\n   </cc:Work>\n  </rdf:RDF>\n </metadata>\n <defs>\n  <style type=\"text/css\">*{stroke-linecap:butt;stroke-linejoin:round;}</style>\n </defs>\n <g id=\"figure_1\">\n  <g id=\"patch_1\">\n   <path d=\"M 0 231.84 \nL 231.84 231.84 \nL 231.84 0 \nL 0 0 \nz\n\" style=\"fill:none;\"/>\n  </g>\n  <g id=\"axes_1\">\n   <g id=\"patch_2\">\n    <path d=\"M 202.896 115.92 \nC 202.896 101.776715 199.446212 87.844583 192.846699 75.335428 \nC 186.247187 62.826273 176.695007 52.113608 165.021012 44.129226 \nC 153.347016 36.144844 139.899783 31.127152 125.848956 29.512591 \nC 111.79813 27.89803 97.563259 29.734809 84.382497 34.863165 \nC 71.201735 39.991521 59.46865 48.258326 50.203791 58.944528 \nC 40.938932 69.63073 34.418941 82.417248 31.210928 96.191905 \nC 28.002916 109.966562 28.202671 124.318058 31.79282 137.998093 \nC 35.382969 151.678128 42.256311 164.278227 51.815002 174.702427 \nL 115.92 115.92 \nL 202.896 115.92 \nz\n\" style=\"fill:#1f77b4;\"/>\n   </g>\n   <g id=\"patch_3\">\n    <path d=\"M 51.815002 174.702427 \nC 63.65633 187.615952 79.127823 196.654977 96.191901 200.629071 \nC 113.255978 204.603165 131.129136 203.329856 147.457496 196.976838 \nC 163.785855 190.623819 177.819694 179.482793 187.710767 165.021022 \nC 197.601841 150.55925 202.895997 133.440752 202.896 115.920016 \nL 115.92 115.92 \nL 51.815002 174.702427 \nz\n\" style=\"fill:#ff7f0e;\"/>\n   </g>\n   <g id=\"matplotlib.axis_1\"/>\n   <g id=\"matplotlib.axis_2\"/>\n   <g id=\"text_1\">\n    <!-- e -->\n    <g transform=\"translate(75.075621 29.516857)scale(0.1 -0.1)\">\n     <defs>\n      <path d=\"M 56.203125 29.59375 \nL 56.203125 25.203125 \nL 14.890625 25.203125 \nQ 15.484375 15.921875 20.484375 11.0625 \nQ 25.484375 6.203125 34.421875 6.203125 \nQ 39.59375 6.203125 44.453125 7.46875 \nQ 49.3125 8.734375 54.109375 11.28125 \nL 54.109375 2.78125 \nQ 49.265625 0.734375 44.1875 -0.34375 \nQ 39.109375 -1.421875 33.890625 -1.421875 \nQ 20.796875 -1.421875 13.15625 6.1875 \nQ 5.515625 13.8125 5.515625 26.8125 \nQ 5.515625 40.234375 12.765625 48.109375 \nQ 20.015625 56 32.328125 56 \nQ 43.359375 56 49.78125 48.890625 \nQ 56.203125 41.796875 56.203125 29.59375 \nz\nM 47.21875 32.234375 \nQ 47.125 39.59375 43.09375 43.984375 \nQ 39.0625 48.390625 32.421875 48.390625 \nQ 24.90625 48.390625 20.390625 44.140625 \nQ 15.875 39.890625 15.1875 32.171875 \nz\n\" id=\"DejaVuSans-101\"/>\n     </defs>\n     <use xlink:href=\"#DejaVuSans-101\"/>\n    </g>\n   </g>\n   <g id=\"text_2\">\n    <!-- 61.8% -->\n    <g transform=\"translate(81.113904 70.045274)scale(0.1 -0.1)\">\n     <defs>\n      <path d=\"M 33.015625 40.375 \nQ 26.375 40.375 22.484375 35.828125 \nQ 18.609375 31.296875 18.609375 23.390625 \nQ 18.609375 15.53125 22.484375 10.953125 \nQ 26.375 6.390625 33.015625 6.390625 \nQ 39.65625 6.390625 43.53125 10.953125 \nQ 47.40625 15.53125 47.40625 23.390625 \nQ 47.40625 31.296875 43.53125 35.828125 \nQ 39.65625 40.375 33.015625 40.375 \nz\nM 52.59375 71.296875 \nL 52.59375 62.3125 \nQ 48.875 64.0625 45.09375 64.984375 \nQ 41.3125 65.921875 37.59375 65.921875 \nQ 27.828125 65.921875 22.671875 59.328125 \nQ 17.53125 52.734375 16.796875 39.40625 \nQ 19.671875 43.65625 24.015625 45.921875 \nQ 28.375 48.1875 33.59375 48.1875 \nQ 44.578125 48.1875 50.953125 41.515625 \nQ 57.328125 34.859375 57.328125 23.390625 \nQ 57.328125 12.15625 50.6875 5.359375 \nQ 44.046875 -1.421875 33.015625 -1.421875 \nQ 20.359375 -1.421875 13.671875 8.265625 \nQ 6.984375 17.96875 6.984375 36.375 \nQ 6.984375 53.65625 15.1875 63.9375 \nQ 23.390625 74.21875 37.203125 74.21875 \nQ 40.921875 74.21875 44.703125 73.484375 \nQ 48.484375 72.75 52.59375 71.296875 \nz\n\" id=\"DejaVuSans-54\"/>\n      <path d=\"M 12.40625 8.296875 \nL 28.515625 8.296875 \nL 28.515625 63.921875 \nL 10.984375 60.40625 \nL 10.984375 69.390625 \nL 28.421875 72.90625 \nL 38.28125 72.90625 \nL 38.28125 8.296875 \nL 54.390625 8.296875 \nL 54.390625 0 \nL 12.40625 0 \nz\n\" id=\"DejaVuSans-49\"/>\n      <path d=\"M 10.6875 12.40625 \nL 21 12.40625 \nL 21 0 \nL 10.6875 0 \nz\n\" id=\"DejaVuSans-46\"/>\n      <path d=\"M 31.78125 34.625 \nQ 24.75 34.625 20.71875 30.859375 \nQ 16.703125 27.09375 16.703125 20.515625 \nQ 16.703125 13.921875 20.71875 10.15625 \nQ 24.75 6.390625 31.78125 6.390625 \nQ 38.8125 6.390625 42.859375 10.171875 \nQ 46.921875 13.96875 46.921875 20.515625 \nQ 46.921875 27.09375 42.890625 30.859375 \nQ 38.875 34.625 31.78125 34.625 \nz\nM 21.921875 38.8125 \nQ 15.578125 40.375 12.03125 44.71875 \nQ 8.5 49.078125 8.5 55.328125 \nQ 8.5 64.0625 14.71875 69.140625 \nQ 20.953125 74.21875 31.78125 74.21875 \nQ 42.671875 74.21875 48.875 69.140625 \nQ 55.078125 64.0625 55.078125 55.328125 \nQ 55.078125 49.078125 51.53125 44.71875 \nQ 48 40.375 41.703125 38.8125 \nQ 48.828125 37.15625 52.796875 32.3125 \nQ 56.78125 27.484375 56.78125 20.515625 \nQ 56.78125 9.90625 50.3125 4.234375 \nQ 43.84375 -1.421875 31.78125 -1.421875 \nQ 19.734375 -1.421875 13.25 4.234375 \nQ 6.78125 9.90625 6.78125 20.515625 \nQ 6.78125 27.484375 10.78125 32.3125 \nQ 14.796875 37.15625 21.921875 38.8125 \nz\nM 18.3125 54.390625 \nQ 18.3125 48.734375 21.84375 45.5625 \nQ 25.390625 42.390625 31.78125 42.390625 \nQ 38.140625 42.390625 41.71875 45.5625 \nQ 45.3125 48.734375 45.3125 54.390625 \nQ 45.3125 60.0625 41.71875 63.234375 \nQ 38.140625 66.40625 31.78125 66.40625 \nQ 25.390625 66.40625 21.84375 63.234375 \nQ 18.3125 60.0625 18.3125 54.390625 \nz\n\" id=\"DejaVuSans-56\"/>\n      <path d=\"M 72.703125 32.078125 \nQ 68.453125 32.078125 66.03125 28.46875 \nQ 63.625 24.859375 63.625 18.40625 \nQ 63.625 12.0625 66.03125 8.421875 \nQ 68.453125 4.78125 72.703125 4.78125 \nQ 76.859375 4.78125 79.265625 8.421875 \nQ 81.6875 12.0625 81.6875 18.40625 \nQ 81.6875 24.8125 79.265625 28.4375 \nQ 76.859375 32.078125 72.703125 32.078125 \nz\nM 72.703125 38.28125 \nQ 80.421875 38.28125 84.953125 32.90625 \nQ 89.5 27.546875 89.5 18.40625 \nQ 89.5 9.28125 84.9375 3.921875 \nQ 80.375 -1.421875 72.703125 -1.421875 \nQ 64.890625 -1.421875 60.34375 3.921875 \nQ 55.8125 9.28125 55.8125 18.40625 \nQ 55.8125 27.59375 60.375 32.9375 \nQ 64.9375 38.28125 72.703125 38.28125 \nz\nM 22.3125 68.015625 \nQ 18.109375 68.015625 15.6875 64.375 \nQ 13.28125 60.75 13.28125 54.390625 \nQ 13.28125 47.953125 15.671875 44.328125 \nQ 18.0625 40.71875 22.3125 40.71875 \nQ 26.5625 40.71875 28.96875 44.328125 \nQ 31.390625 47.953125 31.390625 54.390625 \nQ 31.390625 60.6875 28.953125 64.34375 \nQ 26.515625 68.015625 22.3125 68.015625 \nz\nM 66.40625 74.21875 \nL 74.21875 74.21875 \nL 28.609375 -1.421875 \nL 20.796875 -1.421875 \nz\nM 22.3125 74.21875 \nQ 30.03125 74.21875 34.609375 68.875 \nQ 39.203125 63.53125 39.203125 54.390625 \nQ 39.203125 45.171875 34.640625 39.84375 \nQ 30.078125 34.515625 22.3125 34.515625 \nQ 14.546875 34.515625 10.03125 39.859375 \nQ 5.515625 45.21875 5.515625 54.390625 \nQ 5.515625 63.484375 10.046875 68.84375 \nQ 14.59375 74.21875 22.3125 74.21875 \nz\n\" id=\"DejaVuSans-37\"/>\n     </defs>\n     <use xlink:href=\"#DejaVuSans-54\"/>\n     <use x=\"63.623047\" xlink:href=\"#DejaVuSans-49\"/>\n     <use x=\"127.246094\" xlink:href=\"#DejaVuSans-46\"/>\n     <use x=\"159.033203\" xlink:href=\"#DejaVuSans-56\"/>\n     <use x=\"222.65625\" xlink:href=\"#DejaVuSans-37\"/>\n    </g>\n   </g>\n   <g id=\"text_3\">\n    <!-- p -->\n    <g transform=\"translate(150.611245 207.841896)scale(0.1 -0.1)\">\n     <defs>\n      <path d=\"M 18.109375 8.203125 \nL 18.109375 -20.796875 \nL 9.078125 -20.796875 \nL 9.078125 54.6875 \nL 18.109375 54.6875 \nL 18.109375 46.390625 \nQ 20.953125 51.265625 25.265625 53.625 \nQ 29.59375 56 35.59375 56 \nQ 45.5625 56 51.78125 48.09375 \nQ 58.015625 40.1875 58.015625 27.296875 \nQ 58.015625 14.40625 51.78125 6.484375 \nQ 45.5625 -1.421875 35.59375 -1.421875 \nQ 29.59375 -1.421875 25.265625 0.953125 \nQ 20.953125 3.328125 18.109375 8.203125 \nz\nM 48.6875 27.296875 \nQ 48.6875 37.203125 44.609375 42.84375 \nQ 40.53125 48.484375 33.40625 48.484375 \nQ 26.265625 48.484375 22.1875 42.84375 \nQ 18.109375 37.203125 18.109375 27.296875 \nQ 18.109375 17.390625 22.1875 11.75 \nQ 26.265625 6.109375 33.40625 6.109375 \nQ 40.53125 6.109375 44.609375 11.75 \nQ 48.6875 17.390625 48.6875 27.296875 \nz\n\" id=\"DejaVuSans-112\"/>\n     </defs>\n     <use xlink:href=\"#DejaVuSans-112\"/>\n    </g>\n   </g>\n   <g id=\"text_4\">\n    <!-- 38.2% -->\n    <g transform=\"translate(118.958904 167.313478)scale(0.1 -0.1)\">\n     <defs>\n      <path d=\"M 40.578125 39.3125 \nQ 47.65625 37.796875 51.625 33 \nQ 55.609375 28.21875 55.609375 21.1875 \nQ 55.609375 10.40625 48.1875 4.484375 \nQ 40.765625 -1.421875 27.09375 -1.421875 \nQ 22.515625 -1.421875 17.65625 -0.515625 \nQ 12.796875 0.390625 7.625 2.203125 \nL 7.625 11.71875 \nQ 11.71875 9.328125 16.59375 8.109375 \nQ 21.484375 6.890625 26.8125 6.890625 \nQ 36.078125 6.890625 40.9375 10.546875 \nQ 45.796875 14.203125 45.796875 21.1875 \nQ 45.796875 27.640625 41.28125 31.265625 \nQ 36.765625 34.90625 28.71875 34.90625 \nL 20.21875 34.90625 \nL 20.21875 43.015625 \nL 29.109375 43.015625 \nQ 36.375 43.015625 40.234375 45.921875 \nQ 44.09375 48.828125 44.09375 54.296875 \nQ 44.09375 59.90625 40.109375 62.90625 \nQ 36.140625 65.921875 28.71875 65.921875 \nQ 24.65625 65.921875 20.015625 65.03125 \nQ 15.375 64.15625 9.8125 62.3125 \nL 9.8125 71.09375 \nQ 15.4375 72.65625 20.34375 73.4375 \nQ 25.25 74.21875 29.59375 74.21875 \nQ 40.828125 74.21875 47.359375 69.109375 \nQ 53.90625 64.015625 53.90625 55.328125 \nQ 53.90625 49.265625 50.4375 45.09375 \nQ 46.96875 40.921875 40.578125 39.3125 \nz\n\" id=\"DejaVuSans-51\"/>\n      <path d=\"M 19.1875 8.296875 \nL 53.609375 8.296875 \nL 53.609375 0 \nL 7.328125 0 \nL 7.328125 8.296875 \nQ 12.9375 14.109375 22.625 23.890625 \nQ 32.328125 33.6875 34.8125 36.53125 \nQ 39.546875 41.84375 41.421875 45.53125 \nQ 43.3125 49.21875 43.3125 52.78125 \nQ 43.3125 58.59375 39.234375 62.25 \nQ 35.15625 65.921875 28.609375 65.921875 \nQ 23.96875 65.921875 18.8125 64.3125 \nQ 13.671875 62.703125 7.8125 59.421875 \nL 7.8125 69.390625 \nQ 13.765625 71.78125 18.9375 73 \nQ 24.125 74.21875 28.421875 74.21875 \nQ 39.75 74.21875 46.484375 68.546875 \nQ 53.21875 62.890625 53.21875 53.421875 \nQ 53.21875 48.921875 51.53125 44.890625 \nQ 49.859375 40.875 45.40625 35.40625 \nQ 44.1875 33.984375 37.640625 27.21875 \nQ 31.109375 20.453125 19.1875 8.296875 \nz\n\" id=\"DejaVuSans-50\"/>\n     </defs>\n     <use xlink:href=\"#DejaVuSans-51\"/>\n     <use x=\"63.623047\" xlink:href=\"#DejaVuSans-56\"/>\n     <use x=\"127.246094\" xlink:href=\"#DejaVuSans-46\"/>\n     <use x=\"159.033203\" xlink:href=\"#DejaVuSans-50\"/>\n     <use x=\"222.65625\" xlink:href=\"#DejaVuSans-37\"/>\n    </g>\n   </g>\n  </g>\n </g>\n</svg>\n",
      "image/png": "[encoded data removed]"
     },
     "metadata": {}
    }
   ],
   "source": [
    "import matplotlib.pyplot as plt\n",
    "\n",
    "s = agaricus_data['Class'].value_counts() / len(agaricus_data) * 100\n",
    "plt.pie(s.values, labels=s.index, autopct='%.1f%%')"
   ]
  },
  {
   "cell_type": "code",
   "execution_count": 86,
   "metadata": {},
   "outputs": [
    {
     "output_type": "execute_result",
     "data": {
      "text/plain": [
       "   Class_p  Cap-shape_c  Cap-shape_f  ...  Habitat_m  Habitat_p  Habitat_u\n",
       "0        0            0            0  ...          0          0          0\n",
       "1        0            0            0  ...          1          0          0\n",
       "2        1            0            0  ...          0          0          1\n",
       "3        0            0            0  ...          0          0          0\n",
       "4        0            0            0  ...          0          0          0\n",
       "\n",
       "[5 rows x 77 columns]"
      ],
      "text/html": "<div>\n<style scoped>\n    .dataframe tbody tr th:only-of-type {\n        vertical-align: middle;\n    }\n\n    .dataframe tbody tr th {\n        vertical-align: top;\n    }\n\n    .dataframe thead th {\n        text-align: right;\n    }\n</style>\n<table border=\"1\" class=\"dataframe\">\n  <thead>\n    <tr style=\"text-align: right;\">\n      <th></th>\n      <th>Class_p</th>\n      <th>Cap-shape_c</th>\n      <th>Cap-shape_f</th>\n      <th>Cap-shape_k</th>\n      <th>Cap-shape_s</th>\n      <th>Cap-shape_x</th>\n      <th>Cap-surface_g</th>\n      <th>Cap-surface_s</th>\n      <th>Cap-surface_y</th>\n      <th>Cap-color_c</th>\n      <th>Cap-color_e</th>\n      <th>Cap-color_g</th>\n      <th>Cap-color_n</th>\n      <th>Cap-color_p</th>\n      <th>Cap-color_w</th>\n      <th>Cap-color_y</th>\n      <th>Bruises?_t</th>\n      <th>Odor_c</th>\n      <th>Odor_f</th>\n      <th>Odor_l</th>\n      <th>Odor_m</th>\n      <th>Odor_n</th>\n      <th>Odor_p</th>\n      <th>Gill-attachment_f</th>\n      <th>Gill-spacing_w</th>\n      <th>Gill-size_n</th>\n      <th>Gill-color_h</th>\n      <th>Gill-color_k</th>\n      <th>Gill-color_n</th>\n      <th>Gill-color_p</th>\n      <th>Gill-color_r</th>\n      <th>Gill-color_u</th>\n      <th>Gill-color_w</th>\n      <th>Gill-color_y</th>\n      <th>Stalk-shape_t</th>\n      <th>Stalk-root_c</th>\n      <th>Stalk-root_e</th>\n      <th>Stalk-root_r</th>\n      <th>Stalk-surface-above-ring_k</th>\n      <th>Stalk-surface-above-ring_s</th>\n      <th>Stalk-surface-above-ring_y</th>\n      <th>Stalk-surface-below-ring_k</th>\n      <th>Stalk-surface-below-ring_s</th>\n      <th>Stalk-surface-below-ring_y</th>\n      <th>Stalk-color-above-ring_c</th>\n      <th>Stalk-color-above-ring_g</th>\n      <th>Stalk-color-above-ring_n</th>\n      <th>Stalk-color-above-ring_p</th>\n      <th>Stalk-color-above-ring_w</th>\n      <th>Stalk-color-above-ring_y</th>\n      <th>Stalk-color-below-ring_c</th>\n      <th>Stalk-color-below-ring_g</th>\n      <th>Stalk-color-below-ring_n</th>\n      <th>Stalk-color-below-ring_p</th>\n      <th>Stalk-color-below-ring_w</th>\n      <th>Stalk-color-below-ring_y</th>\n      <th>Veil-color_y</th>\n      <th>Ring-number_o</th>\n      <th>Ring-number_t</th>\n      <th>Ring-type_l</th>\n      <th>Ring-type_n</th>\n      <th>Ring-type_p</th>\n      <th>Spore-print-color_k</th>\n      <th>Spore-print-color_n</th>\n      <th>Spore-print-color_r</th>\n      <th>Spore-print-color_u</th>\n      <th>Spore-print-color_w</th>\n      <th>Population_c</th>\n      <th>Population_n</th>\n      <th>Population_s</th>\n      <th>Population_v</th>\n      <th>Population_y</th>\n      <th>Habitat_g</th>\n      <th>Habitat_l</th>\n      <th>Habitat_m</th>\n      <th>Habitat_p</th>\n      <th>Habitat_u</th>\n    </tr>\n  </thead>\n  <tbody>\n    <tr>\n      <th>0</th>\n      <td>0</td>\n      <td>0</td>\n      <td>0</td>\n      <td>0</td>\n      <td>0</td>\n      <td>1</td>\n      <td>0</td>\n      <td>1</td>\n      <td>0</td>\n      <td>0</td>\n      <td>0</td>\n      <td>0</td>\n      <td>0</td>\n      <td>0</td>\n      <td>0</td>\n      <td>1</td>\n      <td>1</td>\n      <td>0</td>\n      <td>0</td>\n      <td>0</td>\n      <td>0</td>\n      <td>0</td>\n      <td>0</td>\n      <td>1</td>\n      <td>0</td>\n      <td>0</td>\n      <td>0</td>\n      <td>1</td>\n      <td>0</td>\n      <td>0</td>\n      <td>0</td>\n      <td>0</td>\n      <td>0</td>\n      <td>0</td>\n      <td>0</td>\n      <td>1</td>\n      <td>0</td>\n      <td>0</td>\n      <td>0</td>\n      <td>1</td>\n      <td>0</td>\n      <td>0</td>\n      <td>1</td>\n      <td>0</td>\n      <td>0</td>\n      <td>0</td>\n      <td>0</td>\n      <td>0</td>\n      <td>1</td>\n      <td>0</td>\n      <td>0</td>\n      <td>0</td>\n      <td>0</td>\n      <td>0</td>\n      <td>1</td>\n      <td>0</td>\n      <td>0</td>\n      <td>1</td>\n      <td>0</td>\n      <td>0</td>\n      <td>0</td>\n      <td>1</td>\n      <td>0</td>\n      <td>1</td>\n      <td>0</td>\n      <td>0</td>\n      <td>0</td>\n      <td>0</td>\n      <td>1</td>\n      <td>0</td>\n      <td>0</td>\n      <td>0</td>\n      <td>1</td>\n      <td>0</td>\n      <td>0</td>\n      <td>0</td>\n      <td>0</td>\n    </tr>\n    <tr>\n      <th>1</th>\n      <td>0</td>\n      <td>0</td>\n      <td>0</td>\n      <td>0</td>\n      <td>0</td>\n      <td>0</td>\n      <td>0</td>\n      <td>1</td>\n      <td>0</td>\n      <td>0</td>\n      <td>0</td>\n      <td>0</td>\n      <td>0</td>\n      <td>0</td>\n      <td>1</td>\n      <td>0</td>\n      <td>1</td>\n      <td>0</td>\n      <td>0</td>\n      <td>1</td>\n      <td>0</td>\n      <td>0</td>\n      <td>0</td>\n      <td>1</td>\n      <td>0</td>\n      <td>0</td>\n      <td>0</td>\n      <td>0</td>\n      <td>1</td>\n      <td>0</td>\n      <td>0</td>\n      <td>0</td>\n      <td>0</td>\n      <td>0</td>\n      <td>0</td>\n      <td>1</td>\n      <td>0</td>\n      <td>0</td>\n      <td>0</td>\n      <td>1</td>\n      <td>0</td>\n      <td>0</td>\n      <td>1</td>\n      <td>0</td>\n      <td>0</td>\n      <td>0</td>\n      <td>0</td>\n      <td>0</td>\n      <td>1</td>\n      <td>0</td>\n      <td>0</td>\n      <td>0</td>\n      <td>0</td>\n      <td>0</td>\n      <td>1</td>\n      <td>0</td>\n      <td>0</td>\n      <td>1</td>\n      <td>0</td>\n      <td>0</td>\n      <td>0</td>\n      <td>1</td>\n      <td>0</td>\n      <td>1</td>\n      <td>0</td>\n      <td>0</td>\n      <td>0</td>\n      <td>0</td>\n      <td>1</td>\n      <td>0</td>\n      <td>0</td>\n      <td>0</td>\n      <td>0</td>\n      <td>0</td>\n      <td>1</td>\n      <td>0</td>\n      <td>0</td>\n    </tr>\n    <tr>\n      <th>2</th>\n      <td>1</td>\n      <td>0</td>\n      <td>0</td>\n      <td>0</td>\n      <td>0</td>\n      <td>1</td>\n      <td>0</td>\n      <td>0</td>\n      <td>1</td>\n      <td>0</td>\n      <td>0</td>\n      <td>0</td>\n      <td>0</td>\n      <td>0</td>\n      <td>1</td>\n      <td>0</td>\n      <td>1</td>\n      <td>0</td>\n      <td>0</td>\n      <td>0</td>\n      <td>0</td>\n      <td>0</td>\n      <td>1</td>\n      <td>1</td>\n      <td>0</td>\n      <td>1</td>\n      <td>0</td>\n      <td>0</td>\n      <td>1</td>\n      <td>0</td>\n      <td>0</td>\n      <td>0</td>\n      <td>0</td>\n      <td>0</td>\n      <td>0</td>\n      <td>0</td>\n      <td>1</td>\n      <td>0</td>\n      <td>0</td>\n      <td>1</td>\n      <td>0</td>\n      <td>0</td>\n      <td>1</td>\n      <td>0</td>\n      <td>0</td>\n      <td>0</td>\n      <td>0</td>\n      <td>0</td>\n      <td>1</td>\n      <td>0</td>\n      <td>0</td>\n      <td>0</td>\n      <td>0</td>\n      <td>0</td>\n      <td>1</td>\n      <td>0</td>\n      <td>0</td>\n      <td>1</td>\n      <td>0</td>\n      <td>0</td>\n      <td>0</td>\n      <td>1</td>\n      <td>1</td>\n      <td>0</td>\n      <td>0</td>\n      <td>0</td>\n      <td>0</td>\n      <td>0</td>\n      <td>0</td>\n      <td>1</td>\n      <td>0</td>\n      <td>0</td>\n      <td>0</td>\n      <td>0</td>\n      <td>0</td>\n      <td>0</td>\n      <td>1</td>\n    </tr>\n    <tr>\n      <th>3</th>\n      <td>0</td>\n      <td>0</td>\n      <td>0</td>\n      <td>0</td>\n      <td>0</td>\n      <td>1</td>\n      <td>0</td>\n      <td>1</td>\n      <td>0</td>\n      <td>0</td>\n      <td>0</td>\n      <td>1</td>\n      <td>0</td>\n      <td>0</td>\n      <td>0</td>\n      <td>0</td>\n      <td>0</td>\n      <td>0</td>\n      <td>0</td>\n      <td>0</td>\n      <td>0</td>\n      <td>1</td>\n      <td>0</td>\n      <td>1</td>\n      <td>1</td>\n      <td>0</td>\n      <td>0</td>\n      <td>1</td>\n      <td>0</td>\n      <td>0</td>\n      <td>0</td>\n      <td>0</td>\n      <td>0</td>\n      <td>0</td>\n      <td>1</td>\n      <td>0</td>\n      <td>1</td>\n      <td>0</td>\n      <td>0</td>\n      <td>1</td>\n      <td>0</td>\n      <td>0</td>\n      <td>1</td>\n      <td>0</td>\n      <td>0</td>\n      <td>0</td>\n      <td>0</td>\n      <td>0</td>\n      <td>1</td>\n      <td>0</td>\n      <td>0</td>\n      <td>0</td>\n      <td>0</td>\n      <td>0</td>\n      <td>1</td>\n      <td>0</td>\n      <td>0</td>\n      <td>1</td>\n      <td>0</td>\n      <td>0</td>\n      <td>0</td>\n      <td>0</td>\n      <td>0</td>\n      <td>1</td>\n      <td>0</td>\n      <td>0</td>\n      <td>0</td>\n      <td>0</td>\n      <td>0</td>\n      <td>0</td>\n      <td>0</td>\n      <td>0</td>\n      <td>1</td>\n      <td>0</td>\n      <td>0</td>\n      <td>0</td>\n      <td>0</td>\n    </tr>\n    <tr>\n      <th>4</th>\n      <td>0</td>\n      <td>0</td>\n      <td>0</td>\n      <td>0</td>\n      <td>0</td>\n      <td>1</td>\n      <td>0</td>\n      <td>0</td>\n      <td>1</td>\n      <td>0</td>\n      <td>0</td>\n      <td>0</td>\n      <td>0</td>\n      <td>0</td>\n      <td>0</td>\n      <td>1</td>\n      <td>1</td>\n      <td>0</td>\n      <td>0</td>\n      <td>0</td>\n      <td>0</td>\n      <td>0</td>\n      <td>0</td>\n      <td>1</td>\n      <td>0</td>\n      <td>0</td>\n      <td>0</td>\n      <td>0</td>\n      <td>1</td>\n      <td>0</td>\n      <td>0</td>\n      <td>0</td>\n      <td>0</td>\n      <td>0</td>\n      <td>0</td>\n      <td>1</td>\n      <td>0</td>\n      <td>0</td>\n      <td>0</td>\n      <td>1</td>\n      <td>0</td>\n      <td>0</td>\n      <td>1</td>\n      <td>0</td>\n      <td>0</td>\n      <td>0</td>\n      <td>0</td>\n      <td>0</td>\n      <td>1</td>\n      <td>0</td>\n      <td>0</td>\n      <td>0</td>\n      <td>0</td>\n      <td>0</td>\n      <td>1</td>\n      <td>0</td>\n      <td>0</td>\n      <td>1</td>\n      <td>0</td>\n      <td>0</td>\n      <td>0</td>\n      <td>1</td>\n      <td>1</td>\n      <td>0</td>\n      <td>0</td>\n      <td>0</td>\n      <td>0</td>\n      <td>0</td>\n      <td>1</td>\n      <td>0</td>\n      <td>0</td>\n      <td>0</td>\n      <td>1</td>\n      <td>0</td>\n      <td>0</td>\n      <td>0</td>\n      <td>0</td>\n    </tr>\n  </tbody>\n</table>\n</div>"
     },
     "metadata": {},
     "execution_count": 86
    }
   ],
   "source": [
    "new_agaricus_data = pd.get_dummies(data=agaricus_data, columns=agaricus_data.select_dtypes(include=np.object).columns, drop_first=True)\n",
    "new_agaricus_data.head()"
   ]
  },
  {
   "cell_type": "code",
   "execution_count": 88,
   "metadata": {},
   "outputs": [
    {
     "output_type": "execute_result",
     "data": {
      "text/plain": [
       "   Class Cap-shape Cap-surface  ... Spore-print-color Population Habitat\n",
       "0      0         x           s  ...                 n          n       g\n",
       "1      0         b           s  ...                 n          n       m\n",
       "2      1         x           y  ...                 k          s       u\n",
       "3      0         x           s  ...                 n          a       g\n",
       "4      0         x           y  ...                 k          n       g\n",
       "\n",
       "[5 rows x 23 columns]"
      ],
      "text/html": "<div>\n<style scoped>\n    .dataframe tbody tr th:only-of-type {\n        vertical-align: middle;\n    }\n\n    .dataframe tbody tr th {\n        vertical-align: top;\n    }\n\n    .dataframe thead th {\n        text-align: right;\n    }\n</style>\n<table border=\"1\" class=\"dataframe\">\n  <thead>\n    <tr style=\"text-align: right;\">\n      <th></th>\n      <th>Class</th>\n      <th>Cap-shape</th>\n      <th>Cap-surface</th>\n      <th>Cap-color</th>\n      <th>Bruises?</th>\n      <th>Odor</th>\n      <th>Gill-attachment</th>\n      <th>Gill-spacing</th>\n      <th>Gill-size</th>\n      <th>Gill-color</th>\n      <th>Stalk-shape</th>\n      <th>Stalk-root</th>\n      <th>Stalk-surface-above-ring</th>\n      <th>Stalk-surface-below-ring</th>\n      <th>Stalk-color-above-ring</th>\n      <th>Stalk-color-below-ring</th>\n      <th>Veil-type</th>\n      <th>Veil-color</th>\n      <th>Ring-number</th>\n      <th>Ring-type</th>\n      <th>Spore-print-color</th>\n      <th>Population</th>\n      <th>Habitat</th>\n    </tr>\n  </thead>\n  <tbody>\n    <tr>\n      <th>0</th>\n      <td>0</td>\n      <td>x</td>\n      <td>s</td>\n      <td>y</td>\n      <td>t</td>\n      <td>a</td>\n      <td>f</td>\n      <td>c</td>\n      <td>b</td>\n      <td>k</td>\n      <td>e</td>\n      <td>c</td>\n      <td>s</td>\n      <td>s</td>\n      <td>w</td>\n      <td>w</td>\n      <td>p</td>\n      <td>w</td>\n      <td>o</td>\n      <td>p</td>\n      <td>n</td>\n      <td>n</td>\n      <td>g</td>\n    </tr>\n    <tr>\n      <th>1</th>\n      <td>0</td>\n      <td>b</td>\n      <td>s</td>\n      <td>w</td>\n      <td>t</td>\n      <td>l</td>\n      <td>f</td>\n      <td>c</td>\n      <td>b</td>\n      <td>n</td>\n      <td>e</td>\n      <td>c</td>\n      <td>s</td>\n      <td>s</td>\n      <td>w</td>\n      <td>w</td>\n      <td>p</td>\n      <td>w</td>\n      <td>o</td>\n      <td>p</td>\n      <td>n</td>\n      <td>n</td>\n      <td>m</td>\n    </tr>\n    <tr>\n      <th>2</th>\n      <td>1</td>\n      <td>x</td>\n      <td>y</td>\n      <td>w</td>\n      <td>t</td>\n      <td>p</td>\n      <td>f</td>\n      <td>c</td>\n      <td>n</td>\n      <td>n</td>\n      <td>e</td>\n      <td>e</td>\n      <td>s</td>\n      <td>s</td>\n      <td>w</td>\n      <td>w</td>\n      <td>p</td>\n      <td>w</td>\n      <td>o</td>\n      <td>p</td>\n      <td>k</td>\n      <td>s</td>\n      <td>u</td>\n    </tr>\n    <tr>\n      <th>3</th>\n      <td>0</td>\n      <td>x</td>\n      <td>s</td>\n      <td>g</td>\n      <td>f</td>\n      <td>n</td>\n      <td>f</td>\n      <td>w</td>\n      <td>b</td>\n      <td>k</td>\n      <td>t</td>\n      <td>e</td>\n      <td>s</td>\n      <td>s</td>\n      <td>w</td>\n      <td>w</td>\n      <td>p</td>\n      <td>w</td>\n      <td>o</td>\n      <td>e</td>\n      <td>n</td>\n      <td>a</td>\n      <td>g</td>\n    </tr>\n    <tr>\n      <th>4</th>\n      <td>0</td>\n      <td>x</td>\n      <td>y</td>\n      <td>y</td>\n      <td>t</td>\n      <td>a</td>\n      <td>f</td>\n      <td>c</td>\n      <td>b</td>\n      <td>n</td>\n      <td>e</td>\n      <td>c</td>\n      <td>s</td>\n      <td>s</td>\n      <td>w</td>\n      <td>w</td>\n      <td>p</td>\n      <td>w</td>\n      <td>o</td>\n      <td>p</td>\n      <td>k</td>\n      <td>n</td>\n      <td>g</td>\n    </tr>\n  </tbody>\n</table>\n</div>"
     },
     "metadata": {},
     "execution_count": 88
    }
   ],
   "source": [
    "agaricus_data['Class'] = agaricus_data['Class'].factorize()[0]\n",
    "agaricus_data.head()"
   ]
  },
  {
   "cell_type": "code",
   "execution_count": null,
   "metadata": {},
   "outputs": [],
   "source": [
    "# columns = agaricus_data[quantity_cols]\n",
    "# new_table = agaricus_data\n",
    "# for column in columns:\n",
    "#     new_table[column] = (agaricus_data[column] - agaricus_data[column].mean())/agaricus_data[column].std()\n",
    "# agaricus_data"
   ]
  },
  {
   "cell_type": "code",
   "execution_count": null,
   "metadata": {},
   "outputs": [],
   "source": [
    "agaricus_data.drop(['Veil-type'], axis=1, inplace=True)\n",
    "agaricus_data.head()"
   ]
  },
  {
   "cell_type": "code",
   "execution_count": null,
   "metadata": {},
   "outputs": [],
   "source": []
  }
 ]
}